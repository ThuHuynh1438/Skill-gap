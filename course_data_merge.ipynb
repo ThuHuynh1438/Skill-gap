{
 "cells": [
  {
   "cell_type": "markdown",
   "metadata": {},
   "source": [
    "Merge data từ 4 file dữ liệu course từ MOOCs, Udacity, Udemy, Coursera, Edx,...."
   ]
  },
  {
   "cell_type": "code",
   "execution_count": 1,
   "metadata": {},
   "outputs": [],
   "source": [
    "import pandas as pd\n",
    "import os\n"
   ]
  },
  {
   "cell_type": "code",
   "execution_count": 2,
   "metadata": {},
   "outputs": [
    {
     "name": "stdout",
     "output_type": "stream",
     "text": [
      "Số dòng sau khi ghép: 9612\n",
      "                course_title  \\\n",
      "0  Data Engineering with AWS   \n",
      "1            Product Manager   \n",
      "2                        C++   \n",
      "3         Business Analytics   \n",
      "4             Data Scientist   \n",
      "\n",
      "                                  course_description         level  \\\n",
      "0  Learn to design data models, build data wareho...  intermediate   \n",
      "1  Envision and execute the development of indust...      beginner   \n",
      "2  Get hands-on experience building five real-wor...  intermediate   \n",
      "3  Gain foundational data skills like analyzing d...      beginner   \n",
      "4  Build effective machine learning models, run d...      advanced   \n",
      "\n",
      "                                   course_objectives  \\\n",
      "0  AWS Glue,  Amazon S3,  AWS Data Warehouse,  Re...   \n",
      "1  Product Strategy, Product Design, Product Deve...   \n",
      "2  Data Structures & Algorithms, Memory Managemen...   \n",
      "3  Excel & Spreadsheets, SQL, Data Visualization,...   \n",
      "4  Machine Learning, Deep Learning, Software Engi...   \n",
      "\n",
      "                                 course_requirements                 field  \\\n",
      "0  Intermediate Python, intermediate SQL & comman...       Cloud Computing   \n",
      "1                                                NaN              Business   \n",
      "2                           Intermediate Programming  Software Development   \n",
      "3                                                NaN          Data Science   \n",
      "4                           Python, SQL & Statistics          Data Science   \n",
      "\n",
      "   Rating Platform  \n",
      "0     NaN      NaN  \n",
      "1     NaN      NaN  \n",
      "2     NaN      NaN  \n",
      "3     NaN      NaN  \n",
      "4     NaN      NaN  \n"
     ]
    }
   ],
   "source": [
    "# Danh sách các file cần ghép\n",
    "file_list = [\"course_data_1.xlsx\", \"course_data_2.xlsx\", \"course_data_3.xlsx\", \"course_data_4.xlsx\"]\n",
    "\n",
    "# Đọc và ghép file\n",
    "df_list = [pd.read_excel(file) for file in file_list]\n",
    "merged_df = pd.concat(df_list, ignore_index=True)  # Ghép lại, reset index\n",
    "\n",
    "# Lưu file tổng hợp\n",
    "merged_df.to_excel(\"merged_courses.xlsx\", index=False)\n",
    "\n",
    "# Kiểm tra kết quả\n",
    "print(\"Số dòng sau khi ghép:\", merged_df.shape[0])\n",
    "print(merged_df.head())  # Hiển thị vài dòng đầu của file\n"
   ]
  }
 ],
 "metadata": {
  "kernelspec": {
   "display_name": "Python 3",
   "language": "python",
   "name": "python3"
  },
  "language_info": {
   "codemirror_mode": {
    "name": "ipython",
    "version": 3
   },
   "file_extension": ".py",
   "mimetype": "text/x-python",
   "name": "python",
   "nbconvert_exporter": "python",
   "pygments_lexer": "ipython3",
   "version": "3.12.6"
  }
 },
 "nbformat": 4,
 "nbformat_minor": 2
}
