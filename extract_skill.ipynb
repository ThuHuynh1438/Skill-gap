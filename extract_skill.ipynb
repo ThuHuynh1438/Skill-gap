{
 "cells": [
  {
   "cell_type": "code",
   "execution_count": 1,
   "metadata": {},
   "outputs": [
    {
     "name": "stdout",
     "output_type": "stream",
     "text": [
      "✅ Đã trích xuất 113 kỹ năng và lưu vào: extracted_require_skills.xlsx\n"
     ]
    }
   ],
   "source": [
    "import pandas as pd\n",
    "\n",
    "# Đọc nội dung file txt (cập nhật đường dẫn chính xác)\n",
    "file_path = \"skill_require.txt\"\n",
    "\n",
    "with open(file_path, \"r\", encoding=\"utf-8\") as file:\n",
    "    lines = file.readlines()  # Đọc tất cả các dòng trong file\n",
    "\n",
    "# Tách kỹ năng theo dấu phẩy, loại bỏ khoảng trắng thừa\n",
    "skills = set()  # Dùng set để tránh trùng lặp kỹ năng\n",
    "for line in lines:\n",
    "    extracted_skills = [skill.strip() for skill in line.strip().split(\",\")]\n",
    "    skills.update(extracted_skills)\n",
    "\n",
    "# Chuyển danh sách kỹ năng thành DataFrame\n",
    "df = pd.DataFrame({\"Skills\": list(skills)})\n",
    "\n",
    "# Lưu vào file Excel\n",
    "output_file = \"extracted_require_skills.xlsx\"\n",
    "df.to_excel(output_file, index=False)\n",
    "\n",
    "print(f\"✅ Đã trích xuất {len(skills)} kỹ năng và lưu vào: {output_file}\")\n"
   ]
  }
 ],
 "metadata": {
  "kernelspec": {
   "display_name": "Python 3",
   "language": "python",
   "name": "python3"
  },
  "language_info": {
   "codemirror_mode": {
    "name": "ipython",
    "version": 3
   },
   "file_extension": ".py",
   "mimetype": "text/x-python",
   "name": "python",
   "nbconvert_exporter": "python",
   "pygments_lexer": "ipython3",
   "version": "3.12.6"
  }
 },
 "nbformat": 4,
 "nbformat_minor": 2
}
