{
 "cells": [
  {
   "cell_type": "code",
   "execution_count": 8,
   "metadata": {},
   "outputs": [],
   "source": [
    "import pandas as pd\n",
    "# Đọc file Excel\n",
    "file_path = \"cleaned_courses1.xlsx\"  # Đổi thành đường dẫn file của bạn\n",
    "df = pd.read_excel(file_path)"
   ]
  },
  {
   "cell_type": "code",
   "execution_count": 9,
   "metadata": {},
   "outputs": [
    {
     "name": "stdout",
     "output_type": "stream",
     "text": [
      "<class 'pandas.core.frame.DataFrame'>\n",
      "RangeIndex: 5948 entries, 0 to 5947\n",
      "Data columns (total 6 columns):\n",
      " #   Column               Non-Null Count  Dtype \n",
      "---  ------               --------------  ----- \n",
      " 0   course_title         5948 non-null   object\n",
      " 1   course_description   609 non-null    object\n",
      " 2   level                5948 non-null   object\n",
      " 3   course_objectives    5948 non-null   object\n",
      " 4   course_requirements  1851 non-null   object\n",
      " 5   field                5948 non-null   object\n",
      "dtypes: object(6)\n",
      "memory usage: 278.9+ KB\n"
     ]
    }
   ],
   "source": [
    "df.info()"
   ]
  },
  {
   "cell_type": "code",
   "execution_count": 10,
   "metadata": {},
   "outputs": [],
   "source": [
    "keywords = [\n",
    "    \"software\", \"programming\", \"developer\", \"coding\", \"cloud\", \"computer\", \"cybersecurity\", \"networking\",\n",
    "    \"data\", \"sql\", \"database\", \"big data\", \"data analytics\", \"data science\", \"data engineer\",\n",
    "    \"ai\", \"machine learning\", \"deep learning\", \"artificial intelligence\",\n",
    "    \"project management\", \"scrum\", \"agile\", \"pmp\", \"kanban\",\n",
    "    \"scientist\", \"react\", \"self-driving\", \"reinforcement learning\", \"reinforcement\",\n",
    "    \"computer vision\", \"vision\", \"architect\", \"natural language\", \"tensorflow\", \"pytorch\",\n",
    "    \"unsupervised learning\", \"models\", \"robotics\", \"c\", \"algorithms\", \"apis\",\n",
    "    \"prototyping\", \"problem solving\", \"classification\", \"clustering\", \"time series\", \"forecasting\",\n",
    "    \"predictive\", \"linear regression\", \"hardware\",\"programming\", \"coding\",\"programming\", \"python\", \"java\", \"c++\", \n",
    "    \"javascript\", \"swift\", \"kotlin\", \"go\", \"full stack\", \"front end\", \"back end\", \"developer\", \"software development\", \n",
    "    \"web development\", \"ci/cd\", \"cloud computing\", \"aws\", \"azure\", \"google cloud\", \"cloud\", \"devops\", \"cybersecurity\", \"mobile development\", \n",
    "    \"ios\", \"android\", \"mobile\", \"networking\", \"ui\", \"ux\", \"computer\", \"docker\", \"engineer\", \"blockchain\", \"hacker\", \"golang\", \"security\", \n",
    "    \"model\", \"testing\", \"automation\", \"microsoft\", \"responsive\", \"debugging\", \"server\", \"software\", \"game\", \"html5\", \"html\", \"api\", \"restful\", \n",
    "    \"git\", \"os\", \"css\", \"3d\", \"2d\", \"autolayout\", \"figma\", \"shell\", \"design\", \"firebase\", \"system\", \"ajax\", \"jquery\", \"ruby\", \"mvc\", \"embedded\", \n",
    "    \"http\", \"app\", \"deploying\", \"cryptography\", \"network\", \"tech\", \"technical\", \"data structures\", \"database\", \"big data\", \"data science\", \n",
    "    \"data mining\", \"analytics\", \"sql\", \"hadoop\", \"dax\", \"power bi\", \"business intelligence\", \"database\", \"data visualization\", \"storytelling\", \n",
    "    \"microsoft excel\", \"sqllite\", \"firebase\", \"oracle\", \"nosql\", \"wordpress\", \"tableau\", \"speardsheet\", \"mysql\", \"sap\", \"stakeholder\", \n",
    "    \"chatgpt\", \"linux\", \"postgresql\", \"forecasting\", \"angular\", \"data\", \"apache\", \"spark\", \"business analysis\", \n",
    "    \"data analysis\", \"microsoft\", \"leadership\", \"decision making\", \"scala\"\n",
    "]\n"
   ]
  },
  {
   "cell_type": "code",
   "execution_count": 12,
   "metadata": {},
   "outputs": [],
   "source": [
    "# Hàm kiểm tra xem có từ khóa nào xuất hiện trong văn bản không\n",
    "def contains_keywords(text, keywords):\n",
    "    if pd.isna(text):  # Nếu giá trị NaN thì bỏ qua\n",
    "        return False\n",
    "    return any(kw in text for kw in keywords)\n",
    "\n",
    "# Áp dụng bộ lọc lên 3 cột chính: course_title, course_description, course_objectives\n",
    "filtered_df = df[\n",
    "    df[\"course_title\"].apply(lambda x: contains_keywords(x, keywords)) |\n",
    "    df[\"course_description\"].apply(lambda x: contains_keywords(x, keywords)) |\n",
    "    df[\"course_objectives\"].apply(lambda x: contains_keywords(x, keywords))\n",
    "]\n"
   ]
  },
  {
   "cell_type": "code",
   "execution_count": 13,
   "metadata": {},
   "outputs": [
    {
     "name": "stdout",
     "output_type": "stream",
     "text": [
      "✅ Lọc thành công! File đã được lưu thành 'filtered_courses1.xlsx'\n"
     ]
    }
   ],
   "source": [
    "# Ghi ra file Excel mới\n",
    "filtered_df.to_excel(\"filtered_courses1.xlsx\", index=False)\n",
    "\n",
    "print(\"✅ Lọc thành công! File đã được lưu thành 'filtered_courses1.xlsx'\")\n"
   ]
  },
  {
   "cell_type": "code",
   "execution_count": 3,
   "metadata": {},
   "outputs": [
    {
     "name": "stdout",
     "output_type": "stream",
     "text": [
      "✅ Đã thêm cột ID và lưu lại vào: filtered_courses1.xlsx\n"
     ]
    }
   ],
   "source": [
    "import pandas as pd\n",
    "\n",
    "# Đọc file Excel gốc\n",
    "file_path1  = \"filtered_courses1.xlsx\"\n",
    "df1 = pd.read_excel(file_path1)\n",
    "\n",
    "# Tạo cột ID với định dạng C1, C2, C3...\n",
    "df1[\"id\"] = [\"c\" + str(i + 1) for i in range(len(df1))]\n",
    "\n",
    "# Ghi đè lại file gốc\n",
    "df1.to_excel(file_path1, index=False)\n",
    "\n",
    "print(f\"✅ Đã thêm cột ID và lưu lại vào: {file_path1}\")\n"
   ]
  }
 ],
 "metadata": {
  "kernelspec": {
   "display_name": "Python 3",
   "language": "python",
   "name": "python3"
  },
  "language_info": {
   "codemirror_mode": {
    "name": "ipython",
    "version": 3
   },
   "file_extension": ".py",
   "mimetype": "text/x-python",
   "name": "python",
   "nbconvert_exporter": "python",
   "pygments_lexer": "ipython3",
   "version": "3.12.6"
  }
 },
 "nbformat": 4,
 "nbformat_minor": 2
}
