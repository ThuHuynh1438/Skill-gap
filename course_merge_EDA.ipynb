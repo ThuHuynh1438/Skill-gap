{
 "cells": [
  {
   "cell_type": "code",
   "execution_count": 13,
   "metadata": {},
   "outputs": [],
   "source": [
    "import pandas as pd\n",
    "import numpy as np\n",
    "import seaborn as sns\n",
    "import matplotlib.pyplot as plt\n",
    "\n"
   ]
  },
  {
   "cell_type": "code",
   "execution_count": 21,
   "metadata": {},
   "outputs": [],
   "source": [
    "df = pd.read_excel(\"merged_courses.xlsx\")\n"
   ]
  },
  {
   "cell_type": "code",
   "execution_count": 22,
   "metadata": {},
   "outputs": [
    {
     "name": "stdout",
     "output_type": "stream",
     "text": [
      "<class 'pandas.core.frame.DataFrame'>\n",
      "RangeIndex: 9612 entries, 0 to 9611\n",
      "Data columns (total 6 columns):\n",
      " #   Column               Non-Null Count  Dtype \n",
      "---  ------               --------------  ----- \n",
      " 0   course_title         9612 non-null   object\n",
      " 1   course_description   704 non-null    object\n",
      " 2   level                9029 non-null   object\n",
      " 3   course_objectives    7307 non-null   object\n",
      " 4   course_requirements  2828 non-null   object\n",
      " 5   field                9612 non-null   object\n",
      "dtypes: object(6)\n",
      "memory usage: 450.7+ KB\n"
     ]
    },
    {
     "data": {
      "text/html": [
       "<div>\n",
       "<style scoped>\n",
       "    .dataframe tbody tr th:only-of-type {\n",
       "        vertical-align: middle;\n",
       "    }\n",
       "\n",
       "    .dataframe tbody tr th {\n",
       "        vertical-align: top;\n",
       "    }\n",
       "\n",
       "    .dataframe thead th {\n",
       "        text-align: right;\n",
       "    }\n",
       "</style>\n",
       "<table border=\"1\" class=\"dataframe\">\n",
       "  <thead>\n",
       "    <tr style=\"text-align: right;\">\n",
       "      <th></th>\n",
       "      <th>course_title</th>\n",
       "      <th>course_description</th>\n",
       "      <th>level</th>\n",
       "      <th>course_objectives</th>\n",
       "      <th>course_requirements</th>\n",
       "      <th>field</th>\n",
       "    </tr>\n",
       "  </thead>\n",
       "  <tbody>\n",
       "    <tr>\n",
       "      <th>0</th>\n",
       "      <td>Data Engineering with AWS</td>\n",
       "      <td>Learn to design data models, build data wareho...</td>\n",
       "      <td>intermediate</td>\n",
       "      <td>AWS Glue,  Amazon S3,  AWS Data Warehouse,  Re...</td>\n",
       "      <td>Intermediate Python, intermediate SQL &amp; comman...</td>\n",
       "      <td>Cloud Computing</td>\n",
       "    </tr>\n",
       "    <tr>\n",
       "      <th>1</th>\n",
       "      <td>Product Manager</td>\n",
       "      <td>Envision and execute the development of indust...</td>\n",
       "      <td>beginner</td>\n",
       "      <td>Product Strategy, Product Design, Product Deve...</td>\n",
       "      <td>NaN</td>\n",
       "      <td>Business</td>\n",
       "    </tr>\n",
       "    <tr>\n",
       "      <th>2</th>\n",
       "      <td>C++</td>\n",
       "      <td>Get hands-on experience building five real-wor...</td>\n",
       "      <td>intermediate</td>\n",
       "      <td>Data Structures &amp; Algorithms, Memory Managemen...</td>\n",
       "      <td>Intermediate Programming</td>\n",
       "      <td>Software Development</td>\n",
       "    </tr>\n",
       "    <tr>\n",
       "      <th>3</th>\n",
       "      <td>Business Analytics</td>\n",
       "      <td>Gain foundational data skills like analyzing d...</td>\n",
       "      <td>beginner</td>\n",
       "      <td>Excel &amp; Spreadsheets, SQL, Data Visualization,...</td>\n",
       "      <td>NaN</td>\n",
       "      <td>Data Science</td>\n",
       "    </tr>\n",
       "    <tr>\n",
       "      <th>4</th>\n",
       "      <td>Data Scientist</td>\n",
       "      <td>Build effective machine learning models, run d...</td>\n",
       "      <td>advanced</td>\n",
       "      <td>Machine Learning, Deep Learning, Software Engi...</td>\n",
       "      <td>Python, SQL &amp; Statistics</td>\n",
       "      <td>Data Science</td>\n",
       "    </tr>\n",
       "  </tbody>\n",
       "</table>\n",
       "</div>"
      ],
      "text/plain": [
       "                course_title  \\\n",
       "0  Data Engineering with AWS   \n",
       "1            Product Manager   \n",
       "2                        C++   \n",
       "3         Business Analytics   \n",
       "4             Data Scientist   \n",
       "\n",
       "                                  course_description         level  \\\n",
       "0  Learn to design data models, build data wareho...  intermediate   \n",
       "1  Envision and execute the development of indust...      beginner   \n",
       "2  Get hands-on experience building five real-wor...  intermediate   \n",
       "3  Gain foundational data skills like analyzing d...      beginner   \n",
       "4  Build effective machine learning models, run d...      advanced   \n",
       "\n",
       "                                   course_objectives  \\\n",
       "0  AWS Glue,  Amazon S3,  AWS Data Warehouse,  Re...   \n",
       "1  Product Strategy, Product Design, Product Deve...   \n",
       "2  Data Structures & Algorithms, Memory Managemen...   \n",
       "3  Excel & Spreadsheets, SQL, Data Visualization,...   \n",
       "4  Machine Learning, Deep Learning, Software Engi...   \n",
       "\n",
       "                                 course_requirements                 field  \n",
       "0  Intermediate Python, intermediate SQL & comman...       Cloud Computing  \n",
       "1                                                NaN              Business  \n",
       "2                           Intermediate Programming  Software Development  \n",
       "3                                                NaN          Data Science  \n",
       "4                           Python, SQL & Statistics          Data Science  "
      ]
     },
     "execution_count": 22,
     "metadata": {},
     "output_type": "execute_result"
    }
   ],
   "source": [
    "df.info()  # Thông tin về dữ liệu\n",
    "df.describe(include=\"all\")  # Thống kê tổng quan\n",
    "df.head()  # Xem vài dòng đầu\n"
   ]
  },
  {
   "cell_type": "code",
   "execution_count": 31,
   "metadata": {},
   "outputs": [
    {
     "data": {
      "text/plain": [
       "np.int64(0)"
      ]
     },
     "execution_count": 31,
     "metadata": {},
     "output_type": "execute_result"
    }
   ],
   "source": [
    "df.duplicated().sum()\n"
   ]
  },
  {
   "cell_type": "code",
   "execution_count": 24,
   "metadata": {},
   "outputs": [],
   "source": [
    "df = df.drop_duplicates()\n"
   ]
  },
  {
   "cell_type": "code",
   "execution_count": 26,
   "metadata": {},
   "outputs": [
    {
     "data": {
      "text/plain": [
       "np.int64(0)"
      ]
     },
     "execution_count": 26,
     "metadata": {},
     "output_type": "execute_result"
    }
   ],
   "source": [
    "df['course_description'].fillna(\"None\", inplace=True)\n",
    "df['course_description'].isnull().sum()"
   ]
  },
  {
   "cell_type": "code",
   "execution_count": 29,
   "metadata": {},
   "outputs": [
    {
     "data": {
      "text/plain": [
       "np.int64(2304)"
      ]
     },
     "execution_count": 29,
     "metadata": {},
     "output_type": "execute_result"
    }
   ],
   "source": [
    "df['course_objectives'].isnull().sum()"
   ]
  },
  {
   "cell_type": "code",
   "execution_count": 32,
   "metadata": {},
   "outputs": [
    {
     "name": "stdout",
     "output_type": "stream",
     "text": [
      "Số lượng giá trị bị thiếu trước khi điền:\n",
      "course_description        0\n",
      "course_requirements    6777\n",
      "course_objectives      2304\n",
      "dtype: int64\n",
      "\n",
      "Số lượng giá trị bị thiếu sau khi điền:\n",
      "course_description     0\n",
      "course_requirements    0\n",
      "course_objectives      0\n",
      "dtype: int64\n"
     ]
    }
   ],
   "source": [
    "# Thống kê số lượng giá trị bị trống trong các cột cần kiểm tra\n",
    "missing_counts = df[['course_description', 'course_requirements', 'course_objectives']].isnull().sum()\n",
    "print(\"Số lượng giá trị bị thiếu trước khi điền:\")\n",
    "print(missing_counts)\n",
    "\n",
    "# Điền giá trị trống bằng \"None\"\n",
    "df[['course_description', 'course_requirements', 'course_objectives']] = df[['course_description', 'course_requirements', 'course_objectives']].fillna(\"None\")\n",
    "\n",
    "# Kiểm tra lại sau khi điền\n",
    "missing_counts_after = df[['course_description', 'course_requirements', 'course_objectives']].isnull().sum()\n",
    "print(\"\\nSố lượng giá trị bị thiếu sau khi điền:\")\n",
    "print(missing_counts_after)\n"
   ]
  },
  {
   "cell_type": "code",
   "execution_count": 33,
   "metadata": {},
   "outputs": [
    {
     "name": "stdout",
     "output_type": "stream",
     "text": [
      "Số lượng giá trị bị thiếu trước khi điền:\n",
      "level    543\n",
      "dtype: int64\n",
      "\n",
      "Số lượng giá trị bị thiếu sau khi điền:\n",
      "level    0\n",
      "dtype: int64\n"
     ]
    }
   ],
   "source": [
    "# Thống kê số lượng giá trị bị trống trong các cột cần kiểm tra\n",
    "missing_counts = df[['level']].isnull().sum()\n",
    "print(\"Số lượng giá trị bị thiếu trước khi điền:\")\n",
    "print(missing_counts)\n",
    "\n",
    "# Điền giá trị trống bằng \"Unknow\"\n",
    "df[['level']] = df[['level']].fillna(\"None\")\n",
    "\n",
    "# Kiểm tra lại sau khi điền\n",
    "missing_counts_after = df[['level']].isnull().sum()\n",
    "print(\"\\nSố lượng giá trị bị thiếu sau khi điền:\")\n",
    "print(missing_counts_after)\n"
   ]
  },
  {
   "cell_type": "code",
   "execution_count": 36,
   "metadata": {},
   "outputs": [],
   "source": [
    "df['level'] = df['level'].replace(\"None\", \"Unknown\")\n"
   ]
  },
  {
   "cell_type": "code",
   "execution_count": 39,
   "metadata": {},
   "outputs": [],
   "source": [
    "df['course_description'] = df['course_description'].replace(\"Nonene\", \"None\")"
   ]
  },
  {
   "cell_type": "code",
   "execution_count": 37,
   "metadata": {},
   "outputs": [
    {
     "name": "stdout",
     "output_type": "stream",
     "text": [
      "Số lượng dữ liệu được điền là 'None' ở từng cột:\n",
      "course_title              0\n",
      "course_description        0\n",
      "course_requirements    6777\n",
      "course_objectives      2304\n",
      "level                     0\n",
      "field                     0\n",
      "dtype: int64\n"
     ]
    }
   ],
   "source": [
    "# Đếm số lượng giá trị \"None\" trong từng cột\n",
    "none_counts = (df[['course_title','course_description', 'course_requirements', 'course_objectives', 'level', 'field']] == \"None\").sum()\n",
    "\n",
    "# In kết quả\n",
    "print(\"Số lượng dữ liệu được điền là 'None' ở từng cột:\")\n",
    "print(none_counts)\n"
   ]
  },
  {
   "cell_type": "code",
   "execution_count": 40,
   "metadata": {},
   "outputs": [
    {
     "name": "stdout",
     "output_type": "stream",
     "text": [
      "Số dòng có 'None' ở cả hai cột: 2304\n"
     ]
    },
    {
     "data": {
      "text/html": [
       "<div>\n",
       "<style scoped>\n",
       "    .dataframe tbody tr th:only-of-type {\n",
       "        vertical-align: middle;\n",
       "    }\n",
       "\n",
       "    .dataframe tbody tr th {\n",
       "        vertical-align: top;\n",
       "    }\n",
       "\n",
       "    .dataframe thead th {\n",
       "        text-align: right;\n",
       "    }\n",
       "</style>\n",
       "<table border=\"1\" class=\"dataframe\">\n",
       "  <thead>\n",
       "    <tr style=\"text-align: right;\">\n",
       "      <th></th>\n",
       "      <th>course_title</th>\n",
       "      <th>course_description</th>\n",
       "      <th>level</th>\n",
       "      <th>course_objectives</th>\n",
       "      <th>course_requirements</th>\n",
       "      <th>field</th>\n",
       "    </tr>\n",
       "  </thead>\n",
       "  <tbody>\n",
       "    <tr>\n",
       "      <th>3285</th>\n",
       "      <td>mobilites vehicules electriques</td>\n",
       "      <td>None</td>\n",
       "      <td>Beginner</td>\n",
       "      <td>None</td>\n",
       "      <td>None</td>\n",
       "      <td>Other</td>\n",
       "    </tr>\n",
       "    <tr>\n",
       "      <th>3286</th>\n",
       "      <td>cartographie</td>\n",
       "      <td>None</td>\n",
       "      <td>Beginner</td>\n",
       "      <td>None</td>\n",
       "      <td>None</td>\n",
       "      <td>Other</td>\n",
       "    </tr>\n",
       "    <tr>\n",
       "      <th>3287</th>\n",
       "      <td>statistical mechanics</td>\n",
       "      <td>None</td>\n",
       "      <td>Mixed</td>\n",
       "      <td>None</td>\n",
       "      <td>None</td>\n",
       "      <td>Other</td>\n",
       "    </tr>\n",
       "    <tr>\n",
       "      <th>3288</th>\n",
       "      <td>ecological and energetical transitions in sout...</td>\n",
       "      <td>None</td>\n",
       "      <td>Intermediate</td>\n",
       "      <td>None</td>\n",
       "      <td>None</td>\n",
       "      <td>Other</td>\n",
       "    </tr>\n",
       "    <tr>\n",
       "      <th>3289</th>\n",
       "      <td>transiciones energeticas y ecologicas en los p...</td>\n",
       "      <td>None</td>\n",
       "      <td>Intermediate</td>\n",
       "      <td>None</td>\n",
       "      <td>None</td>\n",
       "      <td>Other</td>\n",
       "    </tr>\n",
       "  </tbody>\n",
       "</table>\n",
       "</div>"
      ],
      "text/plain": [
       "                                           course_title course_description  \\\n",
       "3285                    mobilites vehicules electriques               None   \n",
       "3286                                       cartographie               None   \n",
       "3287                              statistical mechanics               None   \n",
       "3288  ecological and energetical transitions in sout...               None   \n",
       "3289  transiciones energeticas y ecologicas en los p...               None   \n",
       "\n",
       "              level course_objectives course_requirements  field  \n",
       "3285      Beginner               None                None  Other  \n",
       "3286      Beginner               None                None  Other  \n",
       "3287         Mixed               None                None  Other  \n",
       "3288  Intermediate               None                None  Other  \n",
       "3289  Intermediate               None                None  Other  "
      ]
     },
     "execution_count": 40,
     "metadata": {},
     "output_type": "execute_result"
    }
   ],
   "source": [
    "none_rows = df[(df['course_requirements'] == \"None\") & (df['course_objectives'] == \"None\")]\n",
    "\n",
    "# Hiển thị số lượng dòng thỏa điều kiện\n",
    "print(f\"Số dòng có 'None' ở cả hai cột: {len(none_rows)}\")\n",
    "\n",
    "# Hiển thị vài dòng đầu tiên\n",
    "none_rows.head()\n"
   ]
  },
  {
   "cell_type": "code",
   "execution_count": 41,
   "metadata": {},
   "outputs": [],
   "source": [
    "df = df[~((df['course_requirements'] == \"None\") & (df['course_objectives'] == \"None\"))]"
   ]
  },
  {
   "cell_type": "code",
   "execution_count": 42,
   "metadata": {},
   "outputs": [
    {
     "name": "stdout",
     "output_type": "stream",
     "text": [
      "Số dòng sau khi lọc: 7015\n"
     ]
    }
   ],
   "source": [
    "print(f\"Số dòng sau khi lọc: {len(df)}\")"
   ]
  },
  {
   "cell_type": "code",
   "execution_count": 6,
   "metadata": {},
   "outputs": [],
   "source": [
    "df1 = pd.read_excel(\"cleaned_courses.xlsx\")"
   ]
  },
  {
   "cell_type": "code",
   "execution_count": 7,
   "metadata": {},
   "outputs": [
    {
     "name": "stdout",
     "output_type": "stream",
     "text": [
      "<class 'pandas.core.frame.DataFrame'>\n",
      "RangeIndex: 5987 entries, 0 to 5986\n",
      "Data columns (total 7 columns):\n",
      " #   Column               Non-Null Count  Dtype \n",
      "---  ------               --------------  ----- \n",
      " 0   course_title         5987 non-null   object\n",
      " 1   course_description   613 non-null    object\n",
      " 2   level                5987 non-null   object\n",
      " 3   course_objectives    5987 non-null   object\n",
      " 4   course_requirements  1860 non-null   object\n",
      " 5   field                5987 non-null   object\n",
      " 6   Unnamed: 6           1 non-null      object\n",
      "dtypes: object(7)\n",
      "memory usage: 327.5+ KB\n"
     ]
    },
    {
     "data": {
      "text/html": [
       "<div>\n",
       "<style scoped>\n",
       "    .dataframe tbody tr th:only-of-type {\n",
       "        vertical-align: middle;\n",
       "    }\n",
       "\n",
       "    .dataframe tbody tr th {\n",
       "        vertical-align: top;\n",
       "    }\n",
       "\n",
       "    .dataframe thead th {\n",
       "        text-align: right;\n",
       "    }\n",
       "</style>\n",
       "<table border=\"1\" class=\"dataframe\">\n",
       "  <thead>\n",
       "    <tr style=\"text-align: right;\">\n",
       "      <th></th>\n",
       "      <th>course_title</th>\n",
       "      <th>course_description</th>\n",
       "      <th>level</th>\n",
       "      <th>course_objectives</th>\n",
       "      <th>course_requirements</th>\n",
       "      <th>field</th>\n",
       "      <th>Unnamed: 6</th>\n",
       "    </tr>\n",
       "  </thead>\n",
       "  <tbody>\n",
       "    <tr>\n",
       "      <th>0</th>\n",
       "      <td>Data Engineering with AWS</td>\n",
       "      <td>Learn to design data models, build data wareho...</td>\n",
       "      <td>intermediate</td>\n",
       "      <td>AWS Glue,  Amazon S3,  AWS Data Warehouse,  Re...</td>\n",
       "      <td>Intermediate Python, intermediate SQL &amp; comman...</td>\n",
       "      <td>Cloud Computing</td>\n",
       "      <td>NaN</td>\n",
       "    </tr>\n",
       "    <tr>\n",
       "      <th>1</th>\n",
       "      <td>Product Manager</td>\n",
       "      <td>Envision and execute the development of indust...</td>\n",
       "      <td>beginner</td>\n",
       "      <td>Product Strategy, Product Design, Product Deve...</td>\n",
       "      <td>NaN</td>\n",
       "      <td>Business</td>\n",
       "      <td>NaN</td>\n",
       "    </tr>\n",
       "    <tr>\n",
       "      <th>2</th>\n",
       "      <td>C++</td>\n",
       "      <td>Get hands-on experience building five real-wor...</td>\n",
       "      <td>intermediate</td>\n",
       "      <td>Data Structures &amp; Algorithms, Memory Managemen...</td>\n",
       "      <td>Intermediate Programming</td>\n",
       "      <td>Software Development</td>\n",
       "      <td>NaN</td>\n",
       "    </tr>\n",
       "    <tr>\n",
       "      <th>3</th>\n",
       "      <td>Business Analytics</td>\n",
       "      <td>Gain foundational data skills like analyzing d...</td>\n",
       "      <td>beginner</td>\n",
       "      <td>Excel &amp; Spreadsheets, SQL, Data Visualization,...</td>\n",
       "      <td>NaN</td>\n",
       "      <td>Data Science</td>\n",
       "      <td>NaN</td>\n",
       "    </tr>\n",
       "    <tr>\n",
       "      <th>4</th>\n",
       "      <td>Data Scientist</td>\n",
       "      <td>Build effective machine learning models, run d...</td>\n",
       "      <td>advanced</td>\n",
       "      <td>Machine Learning, Deep Learning, Software Engi...</td>\n",
       "      <td>Python, SQL &amp; Statistics</td>\n",
       "      <td>Data Science</td>\n",
       "      <td>NaN</td>\n",
       "    </tr>\n",
       "  </tbody>\n",
       "</table>\n",
       "</div>"
      ],
      "text/plain": [
       "                course_title  \\\n",
       "0  Data Engineering with AWS   \n",
       "1            Product Manager   \n",
       "2                        C++   \n",
       "3         Business Analytics   \n",
       "4             Data Scientist   \n",
       "\n",
       "                                  course_description         level  \\\n",
       "0  Learn to design data models, build data wareho...  intermediate   \n",
       "1  Envision and execute the development of indust...      beginner   \n",
       "2  Get hands-on experience building five real-wor...  intermediate   \n",
       "3  Gain foundational data skills like analyzing d...      beginner   \n",
       "4  Build effective machine learning models, run d...      advanced   \n",
       "\n",
       "                                   course_objectives  \\\n",
       "0  AWS Glue,  Amazon S3,  AWS Data Warehouse,  Re...   \n",
       "1  Product Strategy, Product Design, Product Deve...   \n",
       "2  Data Structures & Algorithms, Memory Managemen...   \n",
       "3  Excel & Spreadsheets, SQL, Data Visualization,...   \n",
       "4  Machine Learning, Deep Learning, Software Engi...   \n",
       "\n",
       "                                 course_requirements                 field  \\\n",
       "0  Intermediate Python, intermediate SQL & comman...       Cloud Computing   \n",
       "1                                                NaN              Business   \n",
       "2                           Intermediate Programming  Software Development   \n",
       "3                                                NaN          Data Science   \n",
       "4                           Python, SQL & Statistics          Data Science   \n",
       "\n",
       "  Unnamed: 6  \n",
       "0        NaN  \n",
       "1        NaN  \n",
       "2        NaN  \n",
       "3        NaN  \n",
       "4        NaN  "
      ]
     },
     "execution_count": 7,
     "metadata": {},
     "output_type": "execute_result"
    }
   ],
   "source": [
    "df1.info()  # Thông tin về dữ liệu\n",
    "df1.describe(include=\"all\")  # Thống kê tổng quan\n",
    "df1.head()  # Xem vài dòng đầu"
   ]
  },
  {
   "cell_type": "code",
   "execution_count": 11,
   "metadata": {},
   "outputs": [
    {
     "name": "stdout",
     "output_type": "stream",
     "text": [
      "Đã chuyển đổi thành chữ thường và lưu lại vào: cleaned_courses.xlsx\n"
     ]
    }
   ],
   "source": [
    "import pandas as pd\n",
    "\n",
    "file_path = \"cleaned_courses.xlsx\"  # Đường dẫn file gốc\n",
    "\n",
    "# Đọc file Excel\n",
    "df = pd.read_excel(file_path)\n",
    "\n",
    "# Chuyển toàn bộ dữ liệu thành chữ thường\n",
    "df = df.map(lambda x: str(x).lower() if isinstance(x, str) else x)\n",
    "\n",
    "# Lưu lại file (ghi đè)\n",
    "df.to_excel(file_path, index=False)\n",
    "\n",
    "print(f\"Đã chuyển đổi thành chữ thường và lưu lại vào: {file_path}\")\n"
   ]
  }
 ],
 "metadata": {
  "kernelspec": {
   "display_name": "Python 3",
   "language": "python",
   "name": "python3"
  },
  "language_info": {
   "codemirror_mode": {
    "name": "ipython",
    "version": 3
   },
   "file_extension": ".py",
   "mimetype": "text/x-python",
   "name": "python",
   "nbconvert_exporter": "python",
   "pygments_lexer": "ipython3",
   "version": "3.12.6"
  }
 },
 "nbformat": 4,
 "nbformat_minor": 2
}
